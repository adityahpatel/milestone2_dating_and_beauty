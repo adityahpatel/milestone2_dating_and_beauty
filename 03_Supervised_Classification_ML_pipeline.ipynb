{
 "cells": [
  {
   "cell_type": "markdown",
   "source": [
    "# ML Notebook 4: Supervised Learning Classification\n",
    "## Models: Regression Classification and Multi-Class Classification"
   ],
   "metadata": {}
  },
  {
   "cell_type": "code",
   "execution_count": 1,
   "source": [
    "import pandas as pd\n",
    "import pickle\n",
    "\n",
    "from sklearn.preprocessing import StandardScaler\n",
    "from sklearn.model_selection import GridSearchCV\n",
    "from sklearn.pipeline import Pipeline\n",
    "\n",
    "from sklearn.linear_model import PassiveAggressiveClassifier\n",
    "from sklearn.linear_model import PassiveAggressiveRegressor\n",
    "\n",
    "from sklearn.ensemble import RandomForestRegressor\n",
    "from sklearn.svm import SVR\n",
    "\n",
    "from sklearn.metrics import confusion_matrix\n",
    "from sklearn.metrics import ConfusionMatrixDisplay\n",
    "from sklearn.metrics import classification_report\n",
    "from sklearn.metrics import accuracy_score\n",
    "from sklearn.metrics import mean_squared_error\n",
    "\n",
    "import matplotlib.pyplot as plt"
   ],
   "outputs": [],
   "metadata": {}
  },
  {
   "cell_type": "code",
   "execution_count": 12,
   "source": [
    "plt.style.use('ggplot') # fast\n",
    "plt.style.use('fast')\n",
    "plt.rcParams['axes.grid'] = False"
   ],
   "outputs": [],
   "metadata": {}
  },
  {
   "cell_type": "markdown",
   "source": [
    "# Model 1: Regression classification using our visual feature topic matrix as features"
   ],
   "metadata": {}
  },
  {
   "cell_type": "code",
   "execution_count": 30,
   "source": [
    "# read our files\n",
    "train = pd.read_csv('data/SCUT-FBP5500_v2/train_bovw.zip')\n",
    "test = pd.read_csv('data/SCUT-FBP5500_v2/test_bovw.zip')    \n",
    "test['male'] = test['male'].fillna(0)\n",
    "test['asian'] = test['asian'].fillna(0)\n",
    "\n",
    "train['male'] = train['male'].fillna(0)\n",
    "train['asian'] = train['asian'].fillna(0)"
   ],
   "outputs": [],
   "metadata": {}
  },
  {
   "cell_type": "code",
   "execution_count": 31,
   "source": [
    "X_train = train.iloc[:,2:]\n",
    "y_train = train['rating']\n",
    "X_test = test.iloc[:,2:]\n",
    "y_test = test['rating']"
   ],
   "outputs": [],
   "metadata": {}
  },
  {
   "cell_type": "code",
   "execution_count": 16,
   "source": [
    "y_test.shape"
   ],
   "outputs": [
    {
     "output_type": "execute_result",
     "data": {
      "text/plain": [
       "(2200,)"
      ]
     },
     "metadata": {},
     "execution_count": 16
    }
   ],
   "metadata": {}
  },
  {
   "cell_type": "code",
   "execution_count": 17,
   "source": [
    "y_pred.shape"
   ],
   "outputs": [
    {
     "output_type": "execute_result",
     "data": {
      "text/plain": [
       "(2200,)"
      ]
     },
     "metadata": {},
     "execution_count": 17
    }
   ],
   "metadata": {}
  },
  {
   "cell_type": "code",
   "execution_count": 34,
   "source": [
    "# grid search pipeline example\n",
    "# pipelines\n",
    "pipe_rf = Pipeline([('scl', StandardScaler()),\n",
    "\t\t\t('clf', RandomForestRegressor(random_state=42))])\n",
    "\n",
    "pipe_svr = Pipeline([('scl', StandardScaler()),\n",
    "\t\t\t('clf', SVR())])\n",
    "# Set grid search params\n",
    "param_range = [9, 10,20,30]\n",
    "param_range_fl = [1.0, 0.5]\n",
    "estimators = [200,250,300,350]\n",
    "\n",
    "grid_params_rf = [{'max_depth': param_range,\n",
    "        'n_estimators': estimators,\n",
    "        'min_samples_split': param_range[1:]}]\n",
    "\n",
    "grid_params_svr = [{'kernel': ['rbf'], \n",
    "        'C': param_range_fl}]\n",
    "\n",
    "# Construct grid searches\n",
    "jobs = -1\n",
    "\n",
    "gs_rf = GridSearchCV(estimator=RandomForestRegressor(random_state=42),\n",
    "\t\t\tparam_grid=grid_params_rf,\n",
    "\t\t\tscoring='neg_mean_squared_error',\n",
    "\t\t\tcv=5, \n",
    "\t\t\tn_jobs=jobs)\n",
    "gs_svr = GridSearchCV(estimator=SVR(),\n",
    "\t\t\tparam_grid=grid_params_svr,\n",
    "\t\t\tscoring='neg_mean_squared_error',\n",
    "\t\t\tcv=5,\n",
    "\t\t\tn_jobs=jobs)\n",
    "\n",
    "# List of pipelines for iterating through each of them\n",
    "# Removed rf do to fitting issues , gs_rf,\n",
    "grids = [gs_svr, gs_rf]\n",
    "\n",
    "# Creating a dict for our reference\n",
    "grid_dict = {0: 'Support Vector Machine', 1: 'Random Forest'}\n",
    "\n",
    "grid_dict_results = {}\n",
    "\n",
    "# Fit the grid search objects\n",
    "print('Performing model optimizations...')\n",
    "best_acc = 0.0\n",
    "best_clf = 0\n",
    "best_gs = None\n",
    "for idx, gs in enumerate(grids):\n",
    "    print('\\nEstimator: %s' % grid_dict[idx])\n",
    "    gs.fit(X_train, y_train)\n",
    "    print('Best params are : %s' % gs.best_params_)\n",
    "    # Best training data accuracy\n",
    "    print('Best training mean squared error score: %.3f' % gs.best_score_)\n",
    "    # Predict on test data with best params\n",
    "    y_pred = gs.predict(X_test)\n",
    "    # Test data accuracy of model with best params\n",
    "    acc = gs.score(X_test, y_test)\n",
    "    print('Test set mean squared error  for best params: %.3f ' % acc)\n",
    "    # Track best (highest test accuracy) model\n",
    "    grid_dict_results[grid_dict[idx]] = [gs.cv_results_, gs.best_params_, gs.best_score_, acc]\n",
    "    if acc > best_acc:\n",
    "        best_acc = acc\n",
    "        best_gs = gs\n",
    "        best_clf = idx\n",
    "print('\\nClassifier with best test set score ( mean squared error ): %s' % grid_dict[best_clf])\n",
    "\n",
    "# Save best grid search pipeline to file\n",
    "gs_dump_file = 'best_grid_search_pipeline.pkl'\n",
    "dict_dump_file = 'ml_gs_dict.pkl'\n",
    "path1 = 'data/SCUT-FBP5500_v2/' + gs_dump_file\n",
    "path2 = 'data/SCUT-FBP5500_v2/' + dict_dump_file\n",
    "with open(path1, 'wb') as f:\n",
    "    pickle.dump(gs, f)\n",
    "with open(path2, 'wb') as f:\n",
    "    pickle.dump(grid_dict_results, f)\n",
    "print('\\nSaved %s grid search pipeline to file: %s' % (grid_dict[best_clf], gs_dump_file))"
   ],
   "outputs": [
    {
     "output_type": "stream",
     "name": "stdout",
     "text": [
      "Performing model optimizations...\n",
      "\n",
      "Estimator: Support Vector Machine\n",
      "Best params are : {'C': 1.0, 'kernel': 'rbf'}\n",
      "Best training mean squared error score: -0.331\n",
      "Test set mean squared error  for best params: -0.313 \n",
      "\n",
      "Estimator: Random Forest\n",
      "Best params are : {'max_depth': 30, 'min_samples_split': 10, 'n_estimators': 350}\n",
      "Best training mean squared error score: -0.393\n",
      "Test set mean squared error  for best params: -0.364 \n",
      "\n",
      "Classifier with best test set score ( mean squared error ): Support Vector Machine\n",
      "\n",
      "Saved Support Vector Machine grid search pipeline to file: best_grid_search_pipeline.pkl\n"
     ]
    }
   ],
   "metadata": {}
  },
  {
   "cell_type": "markdown",
   "source": [
    "# mean squared error for best model: 0.313 \n",
    "# ----------------------------------------"
   ],
   "metadata": {}
  },
  {
   "cell_type": "code",
   "execution_count": 47,
   "source": [
    "gs_svr.fit(X_train, y_train)\n",
    "y_pred = gs_svr.predict(X_test)\n",
    "test['pred_rating'] = y_pred\n",
    "test['difference'] = test.rating - test.pred_rating"
   ],
   "outputs": [],
   "metadata": {}
  },
  {
   "cell_type": "code",
   "execution_count": 42,
   "source": [
    "with open('data/SCUT-FBP5500_v2/best_grid_search_pipeline.pkl', 'wb') as f:\n",
    "    pickle.dump(gs, f)"
   ],
   "outputs": [],
   "metadata": {}
  },
  {
   "cell_type": "code",
   "execution_count": 49,
   "source": [
    "y_pred  = gs.best_estimator_.predict(X_test)"
   ],
   "outputs": [],
   "metadata": {}
  },
  {
   "cell_type": "code",
   "execution_count": 46,
   "source": [
    "gs.best_estimator_"
   ],
   "outputs": [
    {
     "output_type": "execute_result",
     "data": {
      "text/plain": [
       "RandomForestRegressor(max_depth=30, min_samples_split=10, n_estimators=350,\n",
       "                      random_state=42)"
      ]
     },
     "metadata": {},
     "execution_count": 46
    }
   ],
   "metadata": {}
  },
  {
   "cell_type": "code",
   "execution_count": 50,
   "source": [
    "test['pred_rating'] = y_pred\n",
    "test['difference'] = test.rating - test.pred_rating"
   ],
   "outputs": [],
   "metadata": {}
  },
  {
   "cell_type": "code",
   "execution_count": 51,
   "source": [
    "plt.scatter(test.rating, test.difference)\n",
    "plt.xlabel('User Rated Rating')\n",
    "plt.ylabel('Difference')\n",
    "plt.title('RF model difference between Agg User Rating and Predicted Rating', fontdict={'color':'black'})\n",
    "plt.show()"
   ],
   "outputs": [
    {
     "output_type": "display_data",
     "data": {
      "image/png": "[encoded data removed]",
      "text/plain": [
       "<Figure size 432x288 with 1 Axes>"
      ]
     },
     "metadata": {}
    }
   ],
   "metadata": {}
  },
  {
   "cell_type": "markdown",
   "source": [
    "# Model 2: Multi-Class classification using all of our features"
   ],
   "metadata": {}
  },
  {
   "cell_type": "code",
   "execution_count": null,
   "source": [
    "# if using google colab for outsourced processing uncomment this cell\n",
    "\n",
    "## Pandas needs to be updated on google drive to read in pickle files\n",
    "# !pip install --upgrade pandas\n",
    "\n",
    "# from google.colab import drive\n",
    "# drive.mount('/drive')"
   ],
   "outputs": [],
   "metadata": {}
  },
  {
   "cell_type": "markdown",
   "source": [
    "## TRAINING Passive Aggressive Classifier"
   ],
   "metadata": {}
  },
  {
   "cell_type": "code",
   "execution_count": null,
   "source": [
    "# this cell calls the model\n",
    "# The model can be re-loaded at various training stages as we save after each epoch batch\n",
    "\n",
    "# first time we did this\n",
    "#clf = PassiveAggressiveClassifier(random_state=42, n_jobs=-1, warm_start=True)\n",
    "\n",
    "# reloading we call the pickled model from its local directory\n",
    "clf = pickle.load(open('/drive/My Drive/Milestone 2 Project/ML_data/trained_PAC_CLF_batch_0013_model.pkl', 'rb'))"
   ],
   "outputs": [],
   "metadata": {}
  },
  {
   "cell_type": "code",
   "execution_count": null,
   "source": [
    "def trainer(filename, model, batch_num, out_filename, regression=False):\n",
    "    \"\"\"\n",
    "    Helper function for training epochs. \n",
    "    The path variable may be updated based on local storage set up.\n",
    "    \n",
    "    Params:\n",
    "    filename: the date filename e.g train_batch_000.zip\n",
    "    model: classifier model (e.g clf, clf_par, clf_pac)\n",
    "    batch_num: This will name the exported classifier model\n",
    "    out_filename: filename for epoch save after batch trained\n",
    "    regression: if regression split data for regression\n",
    "    \n",
    "    Return:\n",
    "    trains the model stored in MODEL parameter; returns nothing\n",
    "    \"\"\"\n",
    "    print(f'--- Training {filename} started ---')\n",
    "    # read in batch\n",
    "    path = \"/drive/My Drive/Milestone 2 Project/ML_data/\" + filename \n",
    "    train = pd.read_csv(path)\n",
    "\n",
    "    # separate\n",
    "    if regression:\n",
    "        # skip first two columns which are rating and filename\n",
    "        y_train = train['rating']\n",
    "        X_train = train.drop(['filename','rating'], axis = 1)\n",
    "        model.partial_fit(X_train, y_train)\n",
    "    \n",
    "    else:\n",
    "        # rounding rating because classifying\n",
    "        # skip first two columns which are rating and filename\n",
    "        X_train = train.iloc[:,2:]\n",
    "        y_train = train['rating'].round(0).astype(int)\n",
    "        \n",
    "        # Classification classes are [1,2,3,4,5]\n",
    "        model.partial_fit(X_train, y_train, classes=[1,2,3,4,5])\n",
    "\n",
    "    # Save output\n",
    "    with open(f\"/drive/My Drive/Milestone 2 Project/ML_data/{out_filename}{batch_num}_model.pkl\", 'wb') as out:\n",
    "        pickle.dump(model, out)\n",
    "\n",
    "    print(f\"Training {filename} complete\\n\")\n",
    "    \n",
    "    return\n"
   ],
   "outputs": [],
   "metadata": {}
  },
  {
   "cell_type": "code",
   "execution_count": null,
   "source": [
    "for ix in range(14):\n",
    "    trainer(f'train_batch_00{ix}.zip', clf, ix, 'trained_PAC_CLF_batch_00')"
   ],
   "outputs": [],
   "metadata": {}
  },
  {
   "cell_type": "markdown",
   "source": [
    "## TESTING Passive Aggressive Classifier"
   ],
   "metadata": {}
  },
  {
   "cell_type": "code",
   "execution_count": 2,
   "source": [
    "# load in the classifier that we want to test\n",
    "#clf = pickle.load(open('/drive/My Drive/Milestone 2 Project/ML_data/trained_PAC_CLF_batch_0013_model.pkl', 'rb'))\n",
    "\n",
    "\n",
    "# dictionary holder for scores\n",
    "test_scores = {}\n",
    "def testing_func(filename, ix):\n",
    "  path = '/drive/My Drive/Milestone 2 Project/ML_data/' + filename\n",
    "  test = pd.read_csv(path)\n",
    "  X_test = test.iloc[:,2:]\n",
    "  \n",
    "  # defining the rating by first rounding using numpy then cast to Integer\n",
    "  # Classification classes are [1,2,3,4,5]\n",
    "  y_test = test['rating'].astype('float').round(0).astype('int')\n",
    "\n",
    "  y_pred = clf.predict(X_test)\n",
    "  tmp_dict = {'filename':test['filename'],'rating':y_test,'pred_rating':y_pred}\n",
    "  test_scores[ix] = pd.DataFrame.from_dict(tmp_dict)\n",
    "\n",
    "  return\n"
   ],
   "outputs": [],
   "metadata": {}
  },
  {
   "cell_type": "code",
   "execution_count": null,
   "source": [
    "for i in range(9):\n",
    "    testing_func(f'test_batch_00{i}.zip', i)"
   ],
   "outputs": [],
   "metadata": {}
  },
  {
   "cell_type": "code",
   "execution_count": null,
   "source": [
    "# Save output\n",
    "# with open(f\"/drive/My Drive/Milestone 2 Project/ML_data/test_scores.pkl\", 'wb') as out:\n",
    "#  pickle.dump(test_scores,out)"
   ],
   "outputs": [],
   "metadata": {}
  },
  {
   "cell_type": "code",
   "execution_count": null,
   "source": [
    "# test = pickle.load(open(\"/drive/My Drive/Milestone 2 Project/ML_data/test_scores.pkl\", 'rb'))\n",
    "test_scores_df = pd.DataFrame()\n",
    "for v in test.values():\n",
    "  test_scores_df = pd.concat([test_scores_df, v])"
   ],
   "outputs": [],
   "metadata": {}
  },
  {
   "cell_type": "code",
   "execution_count": 9,
   "source": [
    "# read in scores for charting\n",
    "test_scores_df = pd.read_csv('data/SCUT-FBP5500_v2/scores/test_scores_PAC_complete.csv')"
   ],
   "outputs": [],
   "metadata": {}
  },
  {
   "cell_type": "code",
   "execution_count": 11,
   "source": [
    "test_scores_df[['filename','rating','pred_rating']]"
   ],
   "outputs": [
    {
     "output_type": "execute_result",
     "data": {
      "text/html": [
       "<div>\n",
       "<style scoped>\n",
       "    .dataframe tbody tr th:only-of-type {\n",
       "        vertical-align: middle;\n",
       "    }\n",
       "\n",
       "    .dataframe tbody tr th {\n",
       "        vertical-align: top;\n",
       "    }\n",
       "\n",
       "    .dataframe thead th {\n",
       "        text-align: right;\n",
       "    }\n",
       "</style>\n",
       "<table border=\"1\" class=\"dataframe\">\n",
       "  <thead>\n",
       "    <tr style=\"text-align: right;\">\n",
       "      <th></th>\n",
       "      <th>filename</th>\n",
       "      <th>rating</th>\n",
       "      <th>pred_rating</th>\n",
       "    </tr>\n",
       "  </thead>\n",
       "  <tbody>\n",
       "    <tr>\n",
       "      <th>0</th>\n",
       "      <td>AM1242.jpg</td>\n",
       "      <td>2</td>\n",
       "      <td>2</td>\n",
       "    </tr>\n",
       "    <tr>\n",
       "      <th>1</th>\n",
       "      <td>AF605.jpg</td>\n",
       "      <td>3</td>\n",
       "      <td>3</td>\n",
       "    </tr>\n",
       "    <tr>\n",
       "      <th>2</th>\n",
       "      <td>CM480.jpg</td>\n",
       "      <td>3</td>\n",
       "      <td>2</td>\n",
       "    </tr>\n",
       "    <tr>\n",
       "      <th>3</th>\n",
       "      <td>AM988.jpg</td>\n",
       "      <td>3</td>\n",
       "      <td>2</td>\n",
       "    </tr>\n",
       "    <tr>\n",
       "      <th>4</th>\n",
       "      <td>AF1595.jpg</td>\n",
       "      <td>4</td>\n",
       "      <td>2</td>\n",
       "    </tr>\n",
       "    <tr>\n",
       "      <th>...</th>\n",
       "      <td>...</td>\n",
       "      <td>...</td>\n",
       "      <td>...</td>\n",
       "    </tr>\n",
       "    <tr>\n",
       "      <th>2195</th>\n",
       "      <td>AM917.jpg</td>\n",
       "      <td>3</td>\n",
       "      <td>2</td>\n",
       "    </tr>\n",
       "    <tr>\n",
       "      <th>2196</th>\n",
       "      <td>AF842.jpg</td>\n",
       "      <td>3</td>\n",
       "      <td>2</td>\n",
       "    </tr>\n",
       "    <tr>\n",
       "      <th>2197</th>\n",
       "      <td>CM62.jpg</td>\n",
       "      <td>3</td>\n",
       "      <td>2</td>\n",
       "    </tr>\n",
       "    <tr>\n",
       "      <th>2198</th>\n",
       "      <td>CM379.jpg</td>\n",
       "      <td>3</td>\n",
       "      <td>2</td>\n",
       "    </tr>\n",
       "    <tr>\n",
       "      <th>2199</th>\n",
       "      <td>AF856.jpg</td>\n",
       "      <td>3</td>\n",
       "      <td>2</td>\n",
       "    </tr>\n",
       "  </tbody>\n",
       "</table>\n",
       "<p>2200 rows × 3 columns</p>\n",
       "</div>"
      ],
      "text/plain": [
       "        filename  rating  pred_rating\n",
       "0     AM1242.jpg       2            2\n",
       "1      AF605.jpg       3            3\n",
       "2      CM480.jpg       3            2\n",
       "3      AM988.jpg       3            2\n",
       "4     AF1595.jpg       4            2\n",
       "...          ...     ...          ...\n",
       "2195   AM917.jpg       3            2\n",
       "2196   AF842.jpg       3            2\n",
       "2197    CM62.jpg       3            2\n",
       "2198   CM379.jpg       3            2\n",
       "2199   AF856.jpg       3            2\n",
       "\n",
       "[2200 rows x 3 columns]"
      ]
     },
     "metadata": {},
     "execution_count": 11
    }
   ],
   "metadata": {}
  },
  {
   "cell_type": "code",
   "execution_count": 13,
   "source": [
    "pac_clf_accu_scr = accuracy_score(test_scores_df.rating, test_scores_df.pred_rating)\n",
    "# 0.3030769230769231\n",
    "pac_clf_accu_scr"
   ],
   "outputs": [
    {
     "output_type": "execute_result",
     "data": {
      "text/plain": [
       "0.30227272727272725"
      ]
     },
     "metadata": {},
     "execution_count": 13
    }
   ],
   "metadata": {}
  },
  {
   "cell_type": "code",
   "execution_count": 16,
   "source": [
    "cm = confusion_matrix(test_scores_df.rating, test_scores_df.pred_rating, labels= [1,2,3,4,5])\n",
    "disp = ConfusionMatrixDisplay(confusion_matrix=cm, display_labels=[1,2,3,4,5])\n",
    "disp.plot(values_format = '.1f')\n",
    "plt.title('Passive Aggressive Classifier Accuracy = 30.2%', fontdict={'color':'black'})\n",
    "plt.show()"
   ],
   "outputs": [
    {
     "output_type": "display_data",
     "data": {
      "image/png": "[encoded data removed]",
      "text/plain": [
       "<Figure size 432x288 with 2 Axes>"
      ]
     },
     "metadata": {}
    }
   ],
   "metadata": {}
  },
  {
   "cell_type": "code",
   "execution_count": 19,
   "source": [
    "print(classification_report(test_scores_df.rating, test_scores_df.pred_rating, labels= [1,2,3,4,5], zero_division=0))"
   ],
   "outputs": [
    {
     "output_type": "stream",
     "name": "stdout",
     "text": [
      "              precision    recall  f1-score   support\n",
      "\n",
      "           1       0.00      0.00      0.00        12\n",
      "           2       0.26      0.98      0.42       540\n",
      "           3       0.65      0.04      0.08      1078\n",
      "           4       0.75      0.16      0.26       559\n",
      "           5       0.00      0.00      0.00        11\n",
      "\n",
      "    accuracy                           0.30      2200\n",
      "   macro avg       0.33      0.24      0.15      2200\n",
      "weighted avg       0.57      0.30      0.21      2200\n",
      "\n"
     ]
    }
   ],
   "metadata": {}
  },
  {
   "cell_type": "markdown",
   "source": [
    "# Model 3: Passive Aggressive Regressor using all of our features"
   ],
   "metadata": {}
  },
  {
   "cell_type": "markdown",
   "source": [
    "## TRAINING Passive Aggressive Classifier"
   ],
   "metadata": {}
  },
  {
   "cell_type": "code",
   "execution_count": null,
   "source": [
    "# initial classifier objects\n",
    "#clf_par = PassiveAggressiveRegressor(random_state=42, warm_start=True, max_iter=100) # cold start\n",
    "#clf_par_cold = PassiveAggressiveRegressor(random_state=42, max_iter=100) # warm start\n",
    "\n",
    "# loading in trained classifier\n",
    "clf_par = pickle.load(open('/drive/My Drive/Milestone 2 Project/ML_data/trained_PAR_CLF_batch_0013_model.pkl', 'rb'))\n",
    "clf_par_cold = pickle.load(open('/drive/My Drive/Milestone 2 Project/ML_data/trained_PAR_CLF_cold_batch_0013_model.pkl', 'rb'))"
   ],
   "outputs": [],
   "metadata": {}
  },
  {
   "cell_type": "code",
   "execution_count": null,
   "source": [
    "for ix in range(14):\n",
    "  trainer(f'train_batch_00{ix}.zip', clf_par, ix, 'trained_PAR_CLF_batch_00', regression=True)"
   ],
   "outputs": [],
   "metadata": {}
  },
  {
   "cell_type": "code",
   "execution_count": null,
   "source": [
    "for ix in range(14):\n",
    "  trainer(f'train_batch_00{ix}.zip', clf_par_cold, ix, 'trained_PAR_CLF_cold_batch_00', regression=True)"
   ],
   "outputs": [],
   "metadata": {}
  },
  {
   "cell_type": "markdown",
   "source": [
    "## TESTING Passive Aggressive Classifier"
   ],
   "metadata": {}
  },
  {
   "cell_type": "markdown",
   "source": [
    "### Batch of 250 Testing"
   ],
   "metadata": {}
  },
  {
   "cell_type": "code",
   "execution_count": null,
   "source": [
    "test_scores_par_cold = {}\n",
    "for i in range(9):\n",
    "  testing_func(f'test_batch_00{i}.zip', test_scores_par_cold,clf_par_cold, i)"
   ],
   "outputs": [],
   "metadata": {}
  },
  {
   "cell_type": "code",
   "execution_count": null,
   "source": [
    "test_scores_par = {}\n",
    "for i in range(9):\n",
    "  testing_func(f'test_batch_00{i}.zip', test_scores_par,clf_par, i)"
   ],
   "outputs": [],
   "metadata": {}
  },
  {
   "cell_type": "markdown",
   "source": [
    "### Warm Start Regression"
   ],
   "metadata": {}
  },
  {
   "cell_type": "code",
   "execution_count": null,
   "source": [
    "# compiling results\n",
    "test_scores_par_df = pd.DataFrame()\n",
    "for v in test_scores_par.values():\n",
    "  test_scores_par_df = pd.concat([test_scores_par_df, v])\n",
    "  \n",
    "# Save output\n",
    "test_scores_par_df.to_csv('/drive/My Drive/Milestone 2 Project/ML_data/test_scores_par.csv')"
   ],
   "outputs": [],
   "metadata": {}
  },
  {
   "cell_type": "code",
   "execution_count": null,
   "source": [
    "# 1.7645511309027233\n",
    "mean_squared_error(test_scores_par_df.rating, test_scores_par_df.pred_rating)"
   ],
   "outputs": [],
   "metadata": {}
  },
  {
   "cell_type": "markdown",
   "source": [
    "### Cold Start Regression"
   ],
   "metadata": {}
  },
  {
   "cell_type": "code",
   "execution_count": null,
   "source": [
    "# compiling results\n",
    "test_scores_par_cold_df = pd.DataFrame()\n",
    "for v in test_scores_par_cold.values():\n",
    "  test_scores_par_cold_df = pd.concat([test_scores_par_cold_df, v])\n",
    "\n",
    "test_scores_par_cold_df.to_csv('/drive/My Drive/Milestone 2 Project/ML_data/test_scores_par_cold_df.csv')"
   ],
   "outputs": [],
   "metadata": {}
  },
  {
   "cell_type": "code",
   "execution_count": null,
   "source": [
    "# 1.7672724947604106\n",
    "mean_squared_error(test_scores_par_cold_df.rating, test_scores_par_cold_df.pred_rating)"
   ],
   "outputs": [],
   "metadata": {}
  }
 ],
 "metadata": {
  "orig_nbformat": 4,
  "language_info": {
   "name": "python",
   "version": "3.9.6",
   "mimetype": "text/x-python",
   "codemirror_mode": {
    "name": "ipython",
    "version": 3
   },
   "pygments_lexer": "ipython3",
   "nbconvert_exporter": "python",
   "file_extension": ".py"
  },
  "kernelspec": {
   "name": "python3",
   "display_name": "Python 3.9.6 64-bit"
  },
  "interpreter": {
   "hash": "aee8b7b246df8f9039afb4144a1f6fd8d2ca17a180786b69acc140d282b71a49"
  }
 },
 "nbformat": 4,
 "nbformat_minor": 2
}