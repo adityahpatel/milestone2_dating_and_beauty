{
  "nbformat": 4,
  "nbformat_minor": 0,
  "metadata": {
    "colab": {
      "name": "cnn4_colab.ipynb",
      "provenance": [],
      "collapsed_sections": []
    },
    "kernelspec": {
      "name": "python3",
      "display_name": "Python 3"
    },
    "language_info": {
      "name": "python"
    },
    "accelerator": "GPU"
  },
  "cells": [
    {
      "cell_type": "markdown",
      "metadata": {
        "id": "4yXG9aGsBcln"
      },
      "source": [
        "** This notebook betters the code of cnn_v3.ipynb. However, commetary is only contained in cnn_v3.ipynb, so either of these not to be deleted. This code was implemented on Colab. Train time 1 min per epoch instead of 20 mins locally. Loading data from zip file takes 20 seconds instead of hours. MSE os 0.21 R^2 of 55% compare to dummy R^2 of 0$. See cnn_v3.ipynb **"
      ]
    },
    {
      "cell_type": "code",
      "metadata": {
        "colab": {
          "base_uri": "https://localhost:8080/"
        },
        "id": "7UW-LmZAHLIX",
        "outputId": "5b8ae26e-8158-4b13-aeba-19e4311694f0"
      },
      "source": [
        "from google.colab import drive\n",
        "drive.mount(\"/content/drive\")"
      ],
      "execution_count": null,
      "outputs": [
        {
          "output_type": "stream",
          "name": "stdout",
          "text": [
            "Go to this URL in a browser: https://accounts.google.com/o/oauth2/auth?client_id=947318989803-6bn6qk8qdgf4n4g3pfee6491hc0brc4i.apps.googleusercontent.com&redirect_uri=urn%3aietf%3awg%3aoauth%3a2.0%3aoob&scope=email%20https%3a%2f%2fwww.googleapis.com%2fauth%2fdocs.test%20https%3a%2f%2fwww.googleapis.com%2fauth%2fdrive%20https%3a%2f%2fwww.googleapis.com%2fauth%2fdrive.photos.readonly%20https%3a%2f%2fwww.googleapis.com%2fauth%2fpeopleapi.readonly%20https%3a%2f%2fwww.googleapis.com%2fauth%2fdrive.activity.readonly%20https%3a%2f%2fwww.googleapis.com%2fauth%2fexperimentsandconfigs%20https%3a%2f%2fwww.googleapis.com%2fauth%2fphotos.native&response_type=code\n",
            "\n",
            "Enter your authorization code:\n",
            "4/1AX4XfWhNGt_efs79gSrxdl7iZrKRXdibz8MS0OtQMEsDbcfEXGhUC4uDQf4\n",
            "Mounted at /content/drive\n"
          ]
        }
      ]
    },
    {
      "cell_type": "code",
      "metadata": {
        "id": "qQdsI8CCHRdb"
      },
      "source": [
        "!unzip \"/content/drive/MyDrive/imagedata.zip\" -d \"/content\""
      ],
      "execution_count": null,
      "outputs": []
    },
    {
      "cell_type": "code",
      "metadata": {
        "id": "VpD01lC8Rkyw"
      },
      "source": [
        "#paperclip video"
      ],
      "execution_count": 103,
      "outputs": []
    },
    {
      "cell_type": "code",
      "metadata": {
        "id": "Vy9p-QkLyqVt"
      },
      "source": [
        ""
      ],
      "execution_count": null,
      "outputs": []
    },
    {
      "cell_type": "markdown",
      "metadata": {
        "id": "pCstZAhoRloL"
      },
      "source": [
        ""
      ]
    },
    {
      "cell_type": "code",
      "metadata": {
        "id": "ONrgv_gyMoId"
      },
      "source": [
        "import numpy as np\n",
        "import PIL,scipy\n",
        "import pandas as pd\n",
        "\n",
        "from PIL import Image\n",
        "import glob, random,os\n",
        "import tensorflow as tf\n",
        "from tensorflow.keras import datasets, layers, models\n",
        "import matplotlib.pyplot as plt\n",
        "from sklearn import metrics\n",
        "\n",
        "\n",
        "import keras_preprocessing\n",
        "from keras_preprocessing import image\n",
        "from keras_preprocessing.image import ImageDataGenerator\n",
        "from sklearn.model_selection import train_test_split\n",
        "\n",
        "from keras.applications.vgg16 import VGG16"
      ],
      "execution_count": 75,
      "outputs": []
    },
    {
      "cell_type": "code",
      "metadata": {
        "colab": {
          "base_uri": "https://localhost:8080/",
          "height": 35
        },
        "id": "Qw6HXsWYMsml",
        "outputId": "7cfa9c6e-6eab-4062-c483-4057c5bab763"
      },
      "source": [
        "from tensorflow import keras\n",
        "keras.__version__"
      ],
      "execution_count": 5,
      "outputs": [
        {
          "output_type": "execute_result",
          "data": {
            "application/vnd.google.colaboratory.intrinsic+json": {
              "type": "string"
            },
            "text/plain": [
              "'2.6.0'"
            ]
          },
          "metadata": {},
          "execution_count": 5
        }
      ]
    },
    {
      "cell_type": "code",
      "metadata": {
        "colab": {
          "base_uri": "https://localhost:8080/",
          "height": 142
        },
        "id": "G0TUwaV8MxOh",
        "outputId": "ac4875d7-1e22-4dac-e346-901883fce020"
      },
      "source": [
        "#path_targetfile = '/Users/adityahpatel/Desktop/PYTHON PROGRAMS/milestone2_dating_and_beauty/SCUT-FBP5500_v2/train_test_files/All_labels.txt'\n",
        "path_targetfile = '/content/All_labels.txt'\n",
        "\n",
        "df_target_all = pd.read_csv(path_targetfile, delimiter=' ', header=None, names=['filename', 'score'])\n",
        "df_target_all.head(3)"
      ],
      "execution_count": 6,
      "outputs": [
        {
          "output_type": "execute_result",
          "data": {
            "text/html": [
              "<div>\n",
              "<style scoped>\n",
              "    .dataframe tbody tr th:only-of-type {\n",
              "        vertical-align: middle;\n",
              "    }\n",
              "\n",
              "    .dataframe tbody tr th {\n",
              "        vertical-align: top;\n",
              "    }\n",
              "\n",
              "    .dataframe thead th {\n",
              "        text-align: right;\n",
              "    }\n",
              "</style>\n",
              "<table border=\"1\" class=\"dataframe\">\n",
              "  <thead>\n",
              "    <tr style=\"text-align: right;\">\n",
              "      <th></th>\n",
              "      <th>filename</th>\n",
              "      <th>score</th>\n",
              "    </tr>\n",
              "  </thead>\n",
              "  <tbody>\n",
              "    <tr>\n",
              "      <th>0</th>\n",
              "      <td>CF437.jpg</td>\n",
              "      <td>2.883333</td>\n",
              "    </tr>\n",
              "    <tr>\n",
              "      <th>1</th>\n",
              "      <td>AM1384.jpg</td>\n",
              "      <td>2.466667</td>\n",
              "    </tr>\n",
              "    <tr>\n",
              "      <th>2</th>\n",
              "      <td>AM1234.jpg</td>\n",
              "      <td>2.150000</td>\n",
              "    </tr>\n",
              "  </tbody>\n",
              "</table>\n",
              "</div>"
            ],
            "text/plain": [
              "     filename     score\n",
              "0   CF437.jpg  2.883333\n",
              "1  AM1384.jpg  2.466667\n",
              "2  AM1234.jpg  2.150000"
            ]
          },
          "metadata": {},
          "execution_count": 6
        }
      ]
    },
    {
      "cell_type": "code",
      "metadata": {
        "id": "PLSI9XJFNT16"
      },
      "source": [
        "df_train, df_test = train_test_split(df_target_all, test_size=0.2, random_state=1, shuffle=True)"
      ],
      "execution_count": 42,
      "outputs": []
    },
    {
      "cell_type": "code",
      "metadata": {
        "colab": {
          "base_uri": "https://localhost:8080/",
          "height": 204
        },
        "id": "k_hQLRPTNeHZ",
        "outputId": "f3173a0e-28e5-426c-d85d-f02ed56aa5a8"
      },
      "source": [
        "df_test.head()"
      ],
      "execution_count": 43,
      "outputs": [
        {
          "output_type": "execute_result",
          "data": {
            "text/html": [
              "<div>\n",
              "<style scoped>\n",
              "    .dataframe tbody tr th:only-of-type {\n",
              "        vertical-align: middle;\n",
              "    }\n",
              "\n",
              "    .dataframe tbody tr th {\n",
              "        vertical-align: top;\n",
              "    }\n",
              "\n",
              "    .dataframe thead th {\n",
              "        text-align: right;\n",
              "    }\n",
              "</style>\n",
              "<table border=\"1\" class=\"dataframe\">\n",
              "  <thead>\n",
              "    <tr style=\"text-align: right;\">\n",
              "      <th></th>\n",
              "      <th>filename</th>\n",
              "      <th>score</th>\n",
              "    </tr>\n",
              "  </thead>\n",
              "  <tbody>\n",
              "    <tr>\n",
              "      <th>4410</th>\n",
              "      <td>CM345.jpg</td>\n",
              "      <td>2.483333</td>\n",
              "    </tr>\n",
              "    <tr>\n",
              "      <th>2256</th>\n",
              "      <td>AF1780.jpg</td>\n",
              "      <td>3.683333</td>\n",
              "    </tr>\n",
              "    <tr>\n",
              "      <th>3684</th>\n",
              "      <td>AM974.jpg</td>\n",
              "      <td>2.483333</td>\n",
              "    </tr>\n",
              "    <tr>\n",
              "      <th>4706</th>\n",
              "      <td>AF952.jpg</td>\n",
              "      <td>3.266667</td>\n",
              "    </tr>\n",
              "    <tr>\n",
              "      <th>5429</th>\n",
              "      <td>CF154.jpg</td>\n",
              "      <td>2.283333</td>\n",
              "    </tr>\n",
              "  </tbody>\n",
              "</table>\n",
              "</div>"
            ],
            "text/plain": [
              "        filename     score\n",
              "4410   CM345.jpg  2.483333\n",
              "2256  AF1780.jpg  3.683333\n",
              "3684   AM974.jpg  2.483333\n",
              "4706   AF952.jpg  3.266667\n",
              "5429   CF154.jpg  2.283333"
            ]
          },
          "metadata": {},
          "execution_count": 43
        }
      ]
    },
    {
      "cell_type": "code",
      "metadata": {
        "id": "M0zL1QbLNgG-"
      },
      "source": [
        "IMAGES_DIR = \"/content/Images\""
      ],
      "execution_count": 9,
      "outputs": []
    },
    {
      "cell_type": "code",
      "metadata": {
        "colab": {
          "base_uri": "https://localhost:8080/"
        },
        "id": "yJN95qDsNnya",
        "outputId": "5d77efc2-11ed-4087-dcde-dcbdabeb95b5"
      },
      "source": [
        "training_datagen = ImageDataGenerator(rescale = 1./255)\n",
        "\n",
        "train_generator = training_datagen.flow_from_dataframe(\n",
        "    directory=IMAGES_DIR, \n",
        "    dataframe=df_train,   # contains x_col, y_col targe\n",
        "    x_col=\"filename\",\n",
        "    y_col=\"score\",\n",
        "    target_size=(350,350),\n",
        "    class_mode='other',\n",
        "    batch_size=8)"
      ],
      "execution_count": 10,
      "outputs": [
        {
          "output_type": "stream",
          "name": "stdout",
          "text": [
            "Found 4400 validated image filenames.\n"
          ]
        }
      ]
    },
    {
      "cell_type": "code",
      "metadata": {
        "id": "vJslXZF3NvyX"
      },
      "source": [
        "cnn = models.Sequential([\n",
        "    # each filter is a feature detector. Convolving feature detector with original image gives feature map \n",
        "    layers.Conv2D(filters=100, kernel_size=(10, 10), activation='relu', input_shape=(350, 350, 3)),\n",
        "    layers.MaxPooling2D((10, 10)),\n",
        "    layers.Conv2D(filters=50, kernel_size=(10, 10), activation='relu'),\n",
        "    layers.MaxPooling2D((10, 10)),\n",
        "   \n",
        "    \n",
        "    # conventional ann\n",
        "    layers.Flatten(),\n",
        "    layers.Dense(30, activation='relu'),\n",
        "    layers.Dense(10, activation='relu'),\n",
        "    layers.Dense(1, activation = 'linear')\n",
        "])\n",
        "\n",
        "cnn.compile(optimizer='adam',\n",
        "              loss=\"mean_squared_error\",\n",
        "              metrics=[tf.keras.metrics.RootMeanSquaredError()])"
      ],
      "execution_count": 91,
      "outputs": []
    },
    {
      "cell_type": "code",
      "metadata": {
        "id": "tEAaunKFN47V"
      },
      "source": [
        "mysteps_per_epoch = 4400//8   # Bhattiprolu says this is 'cos batch size is 8"
      ],
      "execution_count": 92,
      "outputs": []
    },
    {
      "cell_type": "code",
      "metadata": {
        "colab": {
          "base_uri": "https://localhost:8080/"
        },
        "id": "eXNlDfOON9JI",
        "outputId": "3affb049-b24e-4e38-d11c-2bc0465672f4"
      },
      "source": [
        "history = cnn.fit(train_generator,\n",
        "                  steps_per_epoch=mysteps_per_epoch,\n",
        "                  epochs=30,\n",
        "                  verbose=1)"
      ],
      "execution_count": 93,
      "outputs": [
        {
          "output_type": "stream",
          "name": "stdout",
          "text": [
            "Epoch 1/30\n",
            "550/550 [==============================] - 74s 133ms/step - loss: 0.5159 - root_mean_squared_error: 0.7183\n",
            "Epoch 2/30\n",
            "550/550 [==============================] - 74s 134ms/step - loss: 0.3066 - root_mean_squared_error: 0.5537\n",
            "Epoch 3/30\n",
            "550/550 [==============================] - 73s 133ms/step - loss: 0.2752 - root_mean_squared_error: 0.5246\n",
            "Epoch 4/30\n",
            "550/550 [==============================] - 73s 133ms/step - loss: 0.2252 - root_mean_squared_error: 0.4745\n",
            "Epoch 5/30\n",
            "550/550 [==============================] - 73s 133ms/step - loss: 0.2247 - root_mean_squared_error: 0.4740\n",
            "Epoch 6/30\n",
            "550/550 [==============================] - 73s 133ms/step - loss: 0.2047 - root_mean_squared_error: 0.4524\n",
            "Epoch 7/30\n",
            "550/550 [==============================] - 73s 133ms/step - loss: 0.1790 - root_mean_squared_error: 0.4231\n",
            "Epoch 8/30\n",
            "550/550 [==============================] - 73s 133ms/step - loss: 0.1734 - root_mean_squared_error: 0.4164\n",
            "Epoch 9/30\n",
            "550/550 [==============================] - 73s 133ms/step - loss: 0.1545 - root_mean_squared_error: 0.3930\n",
            "Epoch 10/30\n",
            "550/550 [==============================] - 73s 133ms/step - loss: 0.1574 - root_mean_squared_error: 0.3967\n",
            "Epoch 11/30\n",
            "550/550 [==============================] - 73s 133ms/step - loss: 0.1432 - root_mean_squared_error: 0.3784\n",
            "Epoch 12/30\n",
            "550/550 [==============================] - 73s 133ms/step - loss: 0.1311 - root_mean_squared_error: 0.3620\n",
            "Epoch 13/30\n",
            "550/550 [==============================] - 73s 133ms/step - loss: 0.1163 - root_mean_squared_error: 0.3410\n",
            "Epoch 14/30\n",
            "550/550 [==============================] - 73s 133ms/step - loss: 0.1140 - root_mean_squared_error: 0.3376\n",
            "Epoch 15/30\n",
            "550/550 [==============================] - 73s 133ms/step - loss: 0.1112 - root_mean_squared_error: 0.3334\n",
            "Epoch 16/30\n",
            "550/550 [==============================] - 74s 134ms/step - loss: 0.1021 - root_mean_squared_error: 0.3195\n",
            "Epoch 17/30\n",
            "550/550 [==============================] - 73s 133ms/step - loss: 0.0974 - root_mean_squared_error: 0.3121\n",
            "Epoch 18/30\n",
            "550/550 [==============================] - 73s 133ms/step - loss: 0.0850 - root_mean_squared_error: 0.2916\n",
            "Epoch 19/30\n",
            "550/550 [==============================] - 73s 133ms/step - loss: 0.0863 - root_mean_squared_error: 0.2938\n",
            "Epoch 20/30\n",
            "550/550 [==============================] - 73s 133ms/step - loss: 0.0781 - root_mean_squared_error: 0.2794\n",
            "Epoch 21/30\n",
            "550/550 [==============================] - 73s 133ms/step - loss: 0.0769 - root_mean_squared_error: 0.2773\n",
            "Epoch 22/30\n",
            "550/550 [==============================] - 73s 133ms/step - loss: 0.0750 - root_mean_squared_error: 0.2738\n",
            "Epoch 23/30\n",
            "550/550 [==============================] - 73s 133ms/step - loss: 0.0640 - root_mean_squared_error: 0.2530\n",
            "Epoch 24/30\n",
            "550/550 [==============================] - 73s 133ms/step - loss: 0.0618 - root_mean_squared_error: 0.2486\n",
            "Epoch 25/30\n",
            "550/550 [==============================] - 73s 133ms/step - loss: 0.0646 - root_mean_squared_error: 0.2542\n",
            "Epoch 26/30\n",
            "550/550 [==============================] - 73s 133ms/step - loss: 0.0617 - root_mean_squared_error: 0.2484\n",
            "Epoch 27/30\n",
            "550/550 [==============================] - 73s 133ms/step - loss: 0.0532 - root_mean_squared_error: 0.2306\n",
            "Epoch 28/30\n",
            "550/550 [==============================] - 73s 133ms/step - loss: 0.0567 - root_mean_squared_error: 0.2381\n",
            "Epoch 29/30\n",
            "550/550 [==============================] - 73s 133ms/step - loss: 0.0548 - root_mean_squared_error: 0.2342\n",
            "Epoch 30/30\n",
            "550/550 [==============================] - 73s 133ms/step - loss: 0.0476 - root_mean_squared_error: 0.2182\n"
          ]
        }
      ]
    },
    {
      "cell_type": "code",
      "metadata": {
        "colab": {
          "base_uri": "https://localhost:8080/"
        },
        "id": "-4pNM-hmOMI4",
        "outputId": "33fa2c4c-e9d3-4b99-b25d-f7295e86b92d"
      },
      "source": [
        "test_datagen = ImageDataGenerator(rescale = 1./255)\n",
        "\n",
        "test_generator = test_datagen.flow_from_dataframe(\n",
        "        dataframe=df_test,\n",
        "        directory=IMAGES_DIR,\n",
        "        x_col=\"filename\",\n",
        "        batch_size=1,\n",
        "        shuffle=False,\n",
        "        target_size=(350, 350),\n",
        "        class_mode=None)"
      ],
      "execution_count": 94,
      "outputs": [
        {
          "output_type": "stream",
          "name": "stdout",
          "text": [
            "Found 1100 validated image filenames.\n"
          ]
        }
      ]
    },
    {
      "cell_type": "code",
      "metadata": {
        "colab": {
          "base_uri": "https://localhost:8080/"
        },
        "id": "Ui78ldXBUUsD",
        "outputId": "41967645-c6df-4a3d-d9a6-7c7d1e2adc01"
      },
      "source": [
        "test_generator.reset()\n",
        "cnn.evaluate(test_generator)"
      ],
      "execution_count": 95,
      "outputs": [
        {
          "output_type": "stream",
          "name": "stdout",
          "text": [
            "1100/1100 [==============================] - 6s 5ms/step - loss: 0.0000e+00 - root_mean_squared_error: 0.0000e+00\n"
          ]
        },
        {
          "output_type": "execute_result",
          "data": {
            "text/plain": [
              "[0.0, 0.0]"
            ]
          },
          "metadata": {},
          "execution_count": 95
        }
      ]
    },
    {
      "cell_type": "code",
      "metadata": {
        "colab": {
          "base_uri": "https://localhost:8080/"
        },
        "id": "eNEQG2_hUyFS",
        "outputId": "8b013c8f-d7f4-4e87-958a-f2568d0a3370"
      },
      "source": [
        "cnn.predict(test_generator,verbose=1)"
      ],
      "execution_count": 96,
      "outputs": [
        {
          "output_type": "stream",
          "name": "stdout",
          "text": [
            "1100/1100 [==============================] - 9s 9ms/step\n"
          ]
        },
        {
          "output_type": "execute_result",
          "data": {
            "text/plain": [
              "array([[2.4399161],\n",
              "       [3.9287348],\n",
              "       [3.1949563],\n",
              "       ...,\n",
              "       [3.5605464],\n",
              "       [2.5704284],\n",
              "       [3.3116336]], dtype=float32)"
            ]
          },
          "metadata": {},
          "execution_count": 96
        }
      ]
    },
    {
      "cell_type": "code",
      "metadata": {
        "colab": {
          "base_uri": "https://localhost:8080/"
        },
        "id": "Ocyc3-IvY988",
        "outputId": "de96654b-74d1-4e17-b3a6-bcd17f9cfb69"
      },
      "source": [
        "predicted_score = cnn.predict(test_generator,verbose=1)"
      ],
      "execution_count": 97,
      "outputs": [
        {
          "output_type": "stream",
          "name": "stdout",
          "text": [
            "1100/1100 [==============================] - 9s 9ms/step\n"
          ]
        }
      ]
    },
    {
      "cell_type": "code",
      "metadata": {
        "colab": {
          "base_uri": "https://localhost:8080/",
          "height": 204
        },
        "id": "zZydLzHlfeAU",
        "outputId": "4eb81e1f-acd9-4c55-8cb2-f1f2311963c9"
      },
      "source": [
        "df_test.head()"
      ],
      "execution_count": 98,
      "outputs": [
        {
          "output_type": "execute_result",
          "data": {
            "text/html": [
              "<div>\n",
              "<style scoped>\n",
              "    .dataframe tbody tr th:only-of-type {\n",
              "        vertical-align: middle;\n",
              "    }\n",
              "\n",
              "    .dataframe tbody tr th {\n",
              "        vertical-align: top;\n",
              "    }\n",
              "\n",
              "    .dataframe thead th {\n",
              "        text-align: right;\n",
              "    }\n",
              "</style>\n",
              "<table border=\"1\" class=\"dataframe\">\n",
              "  <thead>\n",
              "    <tr style=\"text-align: right;\">\n",
              "      <th></th>\n",
              "      <th>filename</th>\n",
              "      <th>score</th>\n",
              "    </tr>\n",
              "  </thead>\n",
              "  <tbody>\n",
              "    <tr>\n",
              "      <th>4410</th>\n",
              "      <td>CM345.jpg</td>\n",
              "      <td>2.483333</td>\n",
              "    </tr>\n",
              "    <tr>\n",
              "      <th>2256</th>\n",
              "      <td>AF1780.jpg</td>\n",
              "      <td>3.683333</td>\n",
              "    </tr>\n",
              "    <tr>\n",
              "      <th>3684</th>\n",
              "      <td>AM974.jpg</td>\n",
              "      <td>2.483333</td>\n",
              "    </tr>\n",
              "    <tr>\n",
              "      <th>4706</th>\n",
              "      <td>AF952.jpg</td>\n",
              "      <td>3.266667</td>\n",
              "    </tr>\n",
              "    <tr>\n",
              "      <th>5429</th>\n",
              "      <td>CF154.jpg</td>\n",
              "      <td>2.283333</td>\n",
              "    </tr>\n",
              "  </tbody>\n",
              "</table>\n",
              "</div>"
            ],
            "text/plain": [
              "        filename     score\n",
              "4410   CM345.jpg  2.483333\n",
              "2256  AF1780.jpg  3.683333\n",
              "3684   AM974.jpg  2.483333\n",
              "4706   AF952.jpg  3.266667\n",
              "5429   CF154.jpg  2.283333"
            ]
          },
          "metadata": {},
          "execution_count": 98
        }
      ]
    },
    {
      "cell_type": "code",
      "metadata": {
        "id": "Q15TAw5SZLrk"
      },
      "source": [
        "df_report = df_test.copy()\n",
        "df_report['predicted_score'] = predicted_score"
      ],
      "execution_count": 99,
      "outputs": []
    },
    {
      "cell_type": "code",
      "metadata": {
        "colab": {
          "base_uri": "https://localhost:8080/",
          "height": 669
        },
        "id": "sR-Ll7X_VKnx",
        "outputId": "e819bc7a-a6cd-4e04-c5f1-131ccc06dfd7"
      },
      "source": [
        "df_report[:20]"
      ],
      "execution_count": 100,
      "outputs": [
        {
          "output_type": "execute_result",
          "data": {
            "text/html": [
              "<div>\n",
              "<style scoped>\n",
              "    .dataframe tbody tr th:only-of-type {\n",
              "        vertical-align: middle;\n",
              "    }\n",
              "\n",
              "    .dataframe tbody tr th {\n",
              "        vertical-align: top;\n",
              "    }\n",
              "\n",
              "    .dataframe thead th {\n",
              "        text-align: right;\n",
              "    }\n",
              "</style>\n",
              "<table border=\"1\" class=\"dataframe\">\n",
              "  <thead>\n",
              "    <tr style=\"text-align: right;\">\n",
              "      <th></th>\n",
              "      <th>filename</th>\n",
              "      <th>score</th>\n",
              "      <th>predicted_score</th>\n",
              "    </tr>\n",
              "  </thead>\n",
              "  <tbody>\n",
              "    <tr>\n",
              "      <th>4410</th>\n",
              "      <td>CM345.jpg</td>\n",
              "      <td>2.483333</td>\n",
              "      <td>2.439916</td>\n",
              "    </tr>\n",
              "    <tr>\n",
              "      <th>2256</th>\n",
              "      <td>AF1780.jpg</td>\n",
              "      <td>3.683333</td>\n",
              "      <td>3.928735</td>\n",
              "    </tr>\n",
              "    <tr>\n",
              "      <th>3684</th>\n",
              "      <td>AM974.jpg</td>\n",
              "      <td>2.483333</td>\n",
              "      <td>3.194956</td>\n",
              "    </tr>\n",
              "    <tr>\n",
              "      <th>4706</th>\n",
              "      <td>AF952.jpg</td>\n",
              "      <td>3.266667</td>\n",
              "      <td>3.922386</td>\n",
              "    </tr>\n",
              "    <tr>\n",
              "      <th>5429</th>\n",
              "      <td>CF154.jpg</td>\n",
              "      <td>2.283333</td>\n",
              "      <td>2.433738</td>\n",
              "    </tr>\n",
              "    <tr>\n",
              "      <th>1825</th>\n",
              "      <td>CM732.jpg</td>\n",
              "      <td>4.400000</td>\n",
              "      <td>4.041935</td>\n",
              "    </tr>\n",
              "    <tr>\n",
              "      <th>3408</th>\n",
              "      <td>AF1494.jpg</td>\n",
              "      <td>3.700000</td>\n",
              "      <td>2.508137</td>\n",
              "    </tr>\n",
              "    <tr>\n",
              "      <th>4306</th>\n",
              "      <td>CF259.jpg</td>\n",
              "      <td>2.933333</td>\n",
              "      <td>3.113216</td>\n",
              "    </tr>\n",
              "    <tr>\n",
              "      <th>386</th>\n",
              "      <td>AM1932.jpg</td>\n",
              "      <td>3.000000</td>\n",
              "      <td>3.198035</td>\n",
              "    </tr>\n",
              "    <tr>\n",
              "      <th>1751</th>\n",
              "      <td>CM186.jpg</td>\n",
              "      <td>4.116667</td>\n",
              "      <td>3.790813</td>\n",
              "    </tr>\n",
              "    <tr>\n",
              "      <th>1381</th>\n",
              "      <td>AM1536.jpg</td>\n",
              "      <td>2.616667</td>\n",
              "      <td>2.881826</td>\n",
              "    </tr>\n",
              "    <tr>\n",
              "      <th>136</th>\n",
              "      <td>AF194.jpg</td>\n",
              "      <td>2.783333</td>\n",
              "      <td>2.816393</td>\n",
              "    </tr>\n",
              "    <tr>\n",
              "      <th>592</th>\n",
              "      <td>CM281.jpg</td>\n",
              "      <td>3.133333</td>\n",
              "      <td>2.455700</td>\n",
              "    </tr>\n",
              "    <tr>\n",
              "      <th>1198</th>\n",
              "      <td>CF491.jpg</td>\n",
              "      <td>2.116667</td>\n",
              "      <td>2.909918</td>\n",
              "    </tr>\n",
              "    <tr>\n",
              "      <th>2285</th>\n",
              "      <td>CF13.jpg</td>\n",
              "      <td>4.200000</td>\n",
              "      <td>3.430084</td>\n",
              "    </tr>\n",
              "    <tr>\n",
              "      <th>1045</th>\n",
              "      <td>CM283.jpg</td>\n",
              "      <td>2.950000</td>\n",
              "      <td>2.710954</td>\n",
              "    </tr>\n",
              "    <tr>\n",
              "      <th>5234</th>\n",
              "      <td>CM671.jpg</td>\n",
              "      <td>4.433333</td>\n",
              "      <td>3.723075</td>\n",
              "    </tr>\n",
              "    <tr>\n",
              "      <th>1793</th>\n",
              "      <td>CF162.jpg</td>\n",
              "      <td>1.833333</td>\n",
              "      <td>2.557562</td>\n",
              "    </tr>\n",
              "    <tr>\n",
              "      <th>1122</th>\n",
              "      <td>CF717.jpg</td>\n",
              "      <td>3.433333</td>\n",
              "      <td>3.503848</td>\n",
              "    </tr>\n",
              "    <tr>\n",
              "      <th>2636</th>\n",
              "      <td>CF126.jpg</td>\n",
              "      <td>2.816667</td>\n",
              "      <td>2.495746</td>\n",
              "    </tr>\n",
              "  </tbody>\n",
              "</table>\n",
              "</div>"
            ],
            "text/plain": [
              "        filename     score  predicted_score\n",
              "4410   CM345.jpg  2.483333         2.439916\n",
              "2256  AF1780.jpg  3.683333         3.928735\n",
              "3684   AM974.jpg  2.483333         3.194956\n",
              "4706   AF952.jpg  3.266667         3.922386\n",
              "5429   CF154.jpg  2.283333         2.433738\n",
              "1825   CM732.jpg  4.400000         4.041935\n",
              "3408  AF1494.jpg  3.700000         2.508137\n",
              "4306   CF259.jpg  2.933333         3.113216\n",
              "386   AM1932.jpg  3.000000         3.198035\n",
              "1751   CM186.jpg  4.116667         3.790813\n",
              "1381  AM1536.jpg  2.616667         2.881826\n",
              "136    AF194.jpg  2.783333         2.816393\n",
              "592    CM281.jpg  3.133333         2.455700\n",
              "1198   CF491.jpg  2.116667         2.909918\n",
              "2285    CF13.jpg  4.200000         3.430084\n",
              "1045   CM283.jpg  2.950000         2.710954\n",
              "5234   CM671.jpg  4.433333         3.723075\n",
              "1793   CF162.jpg  1.833333         2.557562\n",
              "1122   CF717.jpg  3.433333         3.503848\n",
              "2636   CF126.jpg  2.816667         2.495746"
            ]
          },
          "metadata": {},
          "execution_count": 100
        }
      ]
    },
    {
      "cell_type": "code",
      "metadata": {
        "colab": {
          "base_uri": "https://localhost:8080/"
        },
        "id": "wBie2D-PWMNR",
        "outputId": "af51de4d-2935-4a97-88a7-b0bac722c09e"
      },
      "source": [
        "metrics.r2_score(df_report['score'], df_report['predicted_score'])"
      ],
      "execution_count": 101,
      "outputs": [
        {
          "output_type": "execute_result",
          "data": {
            "text/plain": [
              "0.5518859486109224"
            ]
          },
          "metadata": {},
          "execution_count": 101
        }
      ]
    },
    {
      "cell_type": "code",
      "metadata": {
        "colab": {
          "base_uri": "https://localhost:8080/"
        },
        "id": "Weo2zvK2WUGr",
        "outputId": "a57c2321-0583-46fe-e727-25c2180dd998"
      },
      "source": [
        "metrics.mean_squared_error(df_report['score'], df_report['predicted_score'])"
      ],
      "execution_count": 102,
      "outputs": [
        {
          "output_type": "execute_result",
          "data": {
            "text/plain": [
              "0.20790051483899394"
            ]
          },
          "metadata": {},
          "execution_count": 102
        }
      ]
    }
  ]
}