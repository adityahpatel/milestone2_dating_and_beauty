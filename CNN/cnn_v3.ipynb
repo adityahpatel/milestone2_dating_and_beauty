{
 "cells": [
  {
   "cell_type": "markdown",
   "metadata": {},
   "source": [
    "<span style='font-family:sans-serif'> <font size=\"6\">\n",
    "CNN was successfully used to predict facial attractiveness from 1 to 5"
   ]
  },
  {
   "cell_type": "markdown",
   "metadata": {},
   "source": [
    "<span style='font-family:sans-serif'> <font size=\"4\">\n",
    "\n",
    "(1) Import all data (5500 images)\n",
    "    \n",
    "* Data imported by name sorting using glob and PIL.Image libraries (OpenCV needs MacOS upgrade) \n",
    "* All 5500 images converted to numpy arrays, resulting in a single large (5500, 350,350,3) numpy array.\n",
    "* Corresponding File names are saved in a list\n",
    "\n",
    "(2) Create random 80/20 train-test split of large numpy array\n",
    "* In prior step, all pixels were normalized to be between 0 and 1 by dividing by 255, the maximum value of channel.\n",
    "* Using random seed, 4400 random numbers generated between 0 and 5499 because 80% of 5500 = 4400\n",
    "* Above numbers were used as indices to select corresponding 4400 elements of large numpy array as X_train\n",
    "* The rest of numbers were used to select X_test\n",
    "    * Note: Names of files/images e.g. AF01.jpg were stored in a list/array called \"names_train\" and \"names_test\" \n",
    "* \"All_labels.txt\" contains average beauty score for each face. Create dictionary mapping image names to score. \n"
   ]
  },
  {
   "cell_type": "code",
   "execution_count": 9,
   "metadata": {},
   "outputs": [],
   "source": [
    "import numpy as np\n",
    "import PIL\n",
    "from PIL import Image\n",
    "import glob, random\n",
    "import tensorflow as tf\n",
    "from tensorflow.keras import datasets, layers, models\n",
    "import matplotlib.pyplot as plt\n",
    "from sklearn import metrics"
   ]
  },
  {
   "cell_type": "code",
   "execution_count": 4,
   "metadata": {},
   "outputs": [
    {
     "name": "stdout",
     "output_type": "stream",
     "text": [
      "Data shape: (5500, 350, 350, 3)\n",
      "['AF1.jpg', 'AF10.jpg', 'AF100.jpg', 'AF1000.jpg', 'AF1001.jpg']\n"
     ]
    }
   ],
   "source": [
    "data = []\n",
    "names = []\n",
    "files = sorted(glob.glob (\"/Users/namita/Desktop/Milestone2/SCUT-FBP5500_v2/Images/*.jpg\"))\n",
    "for myFile in files:\n",
    "    #image = cv2.imread (myFile)\n",
    "    img = Image.open(myFile)\n",
    "    img_nparray = np.asarray(img)\n",
    "    \n",
    "    data.append (img_nparray)\n",
    "    img.close()\n",
    "    names.append(myFile.split('/')[-1]) \n",
    "   \n",
    "print('Data shape:', np.array(data).shape)\n",
    "X = np.array(data)/255  # most important step for model convergance\n",
    "print(names[:5])"
   ]
  },
  {
   "cell_type": "code",
   "execution_count": 7,
   "metadata": {},
   "outputs": [],
   "source": [
    "f = open('/Users/namita/Desktop/Milestone2/SCUT-FBP5500_v2/train_test_files/All_labels.txt', 'r') # import target variable\n",
    "names_dict = {}\n",
    "for line in f.readlines():\n",
    "    L = line.split()\n",
    "    names_dict[L[0]] = float(L[1])\n",
    "#names_dict\n",
    "\n",
    "y = [names_dict[imagename] for imagename in names]\n",
    "y[:6]   # Optional: just to see "
   ]
  },
  {
   "attachments": {
    "image.png": {
     "image/png": "[encoded data removed]"
    }
   },
   "cell_type": "markdown",
   "metadata": {},
   "source": [
    "![image.png](attachment:image.png)"
   ]
  },
  {
   "cell_type": "markdown",
   "metadata": {},
   "source": [
    "<span style='font-family:sans-serif'> <font size=\"4\">\n",
    "Now we have:\n",
    "(1) All data before splitting called X with normalized pixel values. Super important\n",
    "\n",
    "(2) target variable \"y\" which is a continuous quantitative variable\n",
    "\n",
    "(3) dictionary of names called \"names_dict\" e.g. {\"AF100.jpg\", corresponding score}\n",
    "\n",
    "<b> Note that X, y and names all correspond to each other position wise. i.e. if 0th image is AF1.jpg, then X[0] is the numpy array for X[0] and y[0] is the provided score from All_labels.txt file for Af1.jpg"
   ]
  },
  {
   "cell_type": "code",
   "execution_count": 6,
   "metadata": {},
   "outputs": [],
   "source": [
    "random.seed(1)   # imp for reproducibility\n",
    "train_indices = random.sample(range(0, 5500), 4400)\n",
    "test_indices = [i for i in range(0,5499) if i not in train_indices]\n",
    "\n",
    "# use above indices to make X_train, y_train, X_test and y_test\n",
    "X_train, y_train, X_test,y_test,names_train,names_test = [],[],[],[],[],[]\n",
    "\n",
    "for i in train_indices:\n",
    "    X_train.append(X[i])\n",
    "    y_train.append(y[i])\n",
    "    names_train.append(names[i])\n",
    "\n",
    "for j in test_indices:\n",
    "    X_test.append(X[j])\n",
    "    y_test.append(y[j])\n",
    "    names_test.append(names[j])\n"
   ]
  },
  {
   "cell_type": "code",
   "execution_count": 7,
   "metadata": {},
   "outputs": [],
   "source": [
    "X_train = np.array(X_train)\n",
    "y_train = np.array(y_train)\n",
    "X_test = np.array(X_test)\n",
    "y_test = np.array(y_test)"
   ]
  },
  {
   "cell_type": "code",
   "execution_count": 8,
   "metadata": {},
   "outputs": [],
   "source": [
    "names_train = np.array(names_train)\n",
    "names_test = np.array(names_test)"
   ]
  },
  {
   "cell_type": "markdown",
   "metadata": {},
   "source": [
    "<span style='font-family:sans-serif'> <font size=\"4\">\n",
    "    Don't delete begin. We are exporting the splitted train test and names of train and test dataframes into a .npz file to load if needed) --------------------------->"
   ]
  },
  {
   "cell_type": "code",
   "execution_count": 41,
   "metadata": {},
   "outputs": [],
   "source": [
    "#np.savez_compressed('traintest.npz', X_train=X_train,y_train=y_train,X_test=X_test,y_test=y_test, names_train = names_train,names_test = names_test)"
   ]
  },
  {
   "cell_type": "code",
   "execution_count": 12,
   "metadata": {},
   "outputs": [],
   "source": [
    "# traintest = np.load('traintest.npz')"
   ]
  },
  {
   "cell_type": "code",
   "execution_count": 8,
   "metadata": {},
   "outputs": [],
   "source": [
    "#traintest.files"
   ]
  },
  {
   "cell_type": "code",
   "execution_count": 25,
   "metadata": {},
   "outputs": [],
   "source": [
    "#traintest['names_test']"
   ]
  },
  {
   "cell_type": "code",
   "execution_count": 22,
   "metadata": {},
   "outputs": [],
   "source": [
    "# X_train = traintest['X_train']\n",
    "# X_test = traintest['X_test']\n",
    "# y_train = traintest['y_train']\n",
    "# y_test = traintest['y_test']"
   ]
  },
  {
   "cell_type": "markdown",
   "metadata": {},
   "source": [
    "<span style='font-family:sans-serif'> <font size=\"4\"> <---------------------------------Dont delete above ends"
   ]
  },
  {
   "cell_type": "markdown",
   "metadata": {},
   "source": [
    "<span style='font-family:sans-serif'> <font size=\"6\"> Built CNN"
   ]
  },
  {
   "cell_type": "code",
   "execution_count": 28,
   "metadata": {},
   "outputs": [],
   "source": [
    "cnn = models.Sequential([\n",
    "    # each filter is a feature detector. Convolving feature detector with original image gives feature map \n",
    "    layers.Conv2D(filters=100, kernel_size=(10, 10), activation='relu', input_shape=(350, 350, 3)),\n",
    "    layers.MaxPooling2D((10, 10)),\n",
    "    \n",
    "    layers.Conv2D(filters=50, kernel_size=(10, 10), activation='relu'),\n",
    "    layers.MaxPooling2D((10, 10)),\n",
    "    \n",
    "    # conventional ann\n",
    "    layers.Flatten(),\n",
    "    layers.Dense(30, activation='relu'),\n",
    "    layers.Dense(10, activation='relu'),\n",
    "    layers.Dense(1)\n",
    "])"
   ]
  },
  {
   "cell_type": "code",
   "execution_count": 30,
   "metadata": {},
   "outputs": [],
   "source": [
    "cnn.compile(optimizer='adam',\n",
    "              loss=\"mean_squared_error\",\n",
    "              metrics=[\"mean_squared_error\"])"
   ]
  },
  {
   "cell_type": "code",
   "execution_count": 31,
   "metadata": {
    "scrolled": false
   },
   "outputs": [
    {
     "name": "stdout",
     "output_type": "stream",
     "text": [
      "Epoch 1/5\n",
      "138/138 [==============================] - 1089s 8s/step - loss: 1.1239 - mean_squared_error: 1.1239\n",
      "Epoch 2/5\n",
      "138/138 [==============================] - 1068s 8s/step - loss: 0.4383 - mean_squared_error: 0.4383\n",
      "Epoch 3/5\n",
      "138/138 [==============================] - 1054s 8s/step - loss: 0.3408 - mean_squared_error: 0.3408\n",
      "Epoch 4/5\n",
      "138/138 [==============================] - 1049s 8s/step - loss: 0.2738 - mean_squared_error: 0.2738\n",
      "Epoch 5/5\n",
      "138/138 [==============================] - 1045s 8s/step - loss: 0.2424 - mean_squared_error: 0.2424\n"
     ]
    },
    {
     "data": {
      "text/plain": [
       "<keras.callbacks.History at 0x1c01e5190>"
      ]
     },
     "execution_count": 31,
     "metadata": {},
     "output_type": "execute_result"
    }
   ],
   "source": [
    "cnn.fit(X_train, y_train, epochs=5)"
   ]
  },
  {
   "cell_type": "markdown",
   "metadata": {},
   "source": [
    "<span style='font-family:sans-serif'> <font size=\"4\">\n",
    "    Observations: MSE (mean squared error) decreases on every epoch indicating model is converging nicely. After 5 epochs, it was <b> 0.24 </b>.  Note that 1 epoch is 1 full pass. i.e. all 4400 training examples were fed, squared errors calculated for each example and mean square error was calculated. We could go beyond 5 epochs but it takes 20 minutes per epoch on my macbook, so we kept it reasonable  "
   ]
  },
  {
   "cell_type": "code",
   "execution_count": 32,
   "metadata": {
    "scrolled": true
   },
   "outputs": [
    {
     "name": "stdout",
     "output_type": "stream",
     "text": [
      "35/35 [==============================] - 94s 3s/step - loss: 0.2153 - mean_squared_error: 0.2153\n"
     ]
    },
    {
     "data": {
      "text/plain": [
       "[0.2152998298406601, 0.2152998298406601]"
      ]
     },
     "execution_count": 32,
     "metadata": {},
     "output_type": "execute_result"
    }
   ],
   "source": [
    "cnn.evaluate(X_test,y_test)"
   ]
  },
  {
   "cell_type": "markdown",
   "metadata": {},
   "source": [
    "<span style='font-family:sans-serif'> <font size=\"4\">\n",
    "    Observations: MSE for test set was <b> 0.21 </b> which is nice because It is comparable to (less than) training set and so we can say that we have generalized well without overfitting. Obviously, we'd want MSE should be 0 but that would be sure shot case of overfitting on training set. "
   ]
  },
  {
   "cell_type": "markdown",
   "metadata": {},
   "source": [
    "<span style='font-family:Arial'> <font size=\"4\">\n",
    "    <b> Interpretation: How good or bad is MSE of 0.21? </b> We could convert MSE into R2 value which would tells us what % of variance in dependent variable is explained by various features that our CNN extracted on its own! \n",
    "    \n",
    "<span style='font-family:Arial'> <font size=\"4\">\n",
    "    To investigate, we created a dummy model which learns the mean beauty score of all training examples and for each new incoming test image, it just predicts the test face to be \"AVERAGE\" on beauty score! This seems an intuitively logical approach and not so dumb after all as most people in real life may well be average looking, neither too pretty, nor too ugly and also \"mean reversion\" is a strong force to reckon with!\n",
    "    \n",
    "<span style='font-family:Arial'> <font size=\"4\">\n",
    "    For dummy model, We calculate the average beauty of a face in training dataset np.mean(y_train) = 2.99 (i.e. 3.0). That value seems intuitively reasonable as that represents a face with nearly average beauty - what we would call a \"typical\" guy or girl in common parlance where \"typical\" means neither too pretty, nor too ugly. \n",
    "\n",
    "<span style='font-family:Arial'> <font size=\"4\">\n",
    "    So if our model always predicted 3.0 as the score for each new 1100 test images, then we would      basically have predictions like [3.0, 3.0, 3.0....................1100 times]\n",
    "    \n",
    "    \n",
    "    "
   ]
  },
  {
   "cell_type": "code",
   "execution_count": 14,
   "metadata": {},
   "outputs": [
    {
     "data": {
      "text/plain": [
       "array([2.333333, 2.9     , 2.7     , 2.783333, 3.316667, 2.866667,\n",
       "       3.366667])"
      ]
     },
     "execution_count": 14,
     "metadata": {},
     "output_type": "execute_result"
    }
   ],
   "source": [
    "y_dummy = np.ones(1100)*3.0\n",
    "y_test[:7]"
   ]
  },
  {
   "cell_type": "code",
   "execution_count": 35,
   "metadata": {},
   "outputs": [
    {
     "name": "stdout",
     "output_type": "stream",
     "text": [
      "Dummy model will have MSE of 0.46676766868694275\n",
      "Dummy model will have R2 of -0.0008569545993708516 %\n"
     ]
    }
   ],
   "source": [
    "mse_dummy = metrics.mean_squared_error(y_test,y_dummy)\n",
    "r2_dummy = metrics.r2_score(y_test,y_dummy)\n",
    "print('Dummy model will have MSE of {}'.format(mse_dummy)  )\n",
    "print('Dummy model will have R2 of {} %'.format(r2_dummy * 100 ) )"
   ]
  },
  {
   "cell_type": "markdown",
   "metadata": {},
   "source": [
    "<span style='font-family:sans-serif'> <font size=\"4\">\n",
    "    <b> R2 for dummy model = 0% </b> i.e. our dummy model is infact dumb! Just blindly predicting the average score each time will lead to terrible predictions and a HUGE mean square error of 0.47! "
   ]
  },
  {
   "cell_type": "code",
   "execution_count": 26,
   "metadata": {},
   "outputs": [],
   "source": [
    "y_predictions = cnn.predict(X_test)"
   ]
  },
  {
   "cell_type": "code",
   "execution_count": 38,
   "metadata": {},
   "outputs": [
    {
     "name": "stdout",
     "output_type": "stream",
     "text": [
      "Our CNN will have MSE of 0.21529984175413253\n",
      "Our CNN will have R2 of 53.87390746627956 %\n"
     ]
    }
   ],
   "source": [
    "mse_cnn = metrics.mean_squared_error(y_test,y_predictions)\n",
    "r2_cnn = metrics.r2_score(y_test,y_predictions)\n",
    "print('Our CNN will have MSE of {}'.format(mse_cnn)  )\n",
    "print('Our CNN will have R2 of {} %'.format(r2_cnn * 100 ) )"
   ]
  },
  {
   "cell_type": "markdown",
   "metadata": {},
   "source": [
    "<span style='font-family:sans-serif'> <font size=\"4\">\n",
    "    <b> R2 for CNN is a whopping 54%! </b> It does remarkably well compared to the otherwise intuitive strategy of \n",
    "always predicting that every new user who signs up on our hypothetical dating site has \"average\" beauty. That is clearly not the case!"
   ]
  },
  {
   "cell_type": "markdown",
   "metadata": {},
   "source": [
    "<span style='font-family:sans-serif'> <font size=\"4\">This means that our CNN did a great job extracting features that were useful/meningful in explaining the variance in the beauty scores "
   ]
  },
  {
   "cell_type": "markdown",
   "metadata": {},
   "source": [
    "# -------------------------------------END------------------------------------------"
   ]
  },
  {
   "cell_type": "markdown",
   "metadata": {},
   "source": [
    "<span style='font-family:sans-serif'> <font size=\"4\">\n",
    "    Optional but useful: Model was saved below using preferred method instead of the old .h5 file method\n"
   ]
  },
  {
   "cell_type": "code",
   "execution_count": 71,
   "metadata": {},
   "outputs": [
    {
     "name": "stdout",
     "output_type": "stream",
     "text": [
      "INFO:tensorflow:Assets written to: /Users/namita/Desktop/Milestone2/cnn_model_adi_chris/assets\n"
     ]
    }
   ],
   "source": [
    "cnn.save(\"/Users/namita/Desktop/Milestone2/cnn_model_adi_chris\")"
   ]
  },
  {
   "cell_type": "markdown",
   "metadata": {},
   "source": [
    "<span style='font-family:sans-serif'> <font size=\"4\">\n",
    "    Optional but useful: Model was loaded just to check if it loads fine, which it does"
   ]
  },
  {
   "cell_type": "code",
   "execution_count": 25,
   "metadata": {},
   "outputs": [],
   "source": [
    "loadcheck = models.load_model(\"/Users/namita/Desktop/Milestone2/cnn_model_adi_chris\")"
   ]
  },
  {
   "cell_type": "code",
   "execution_count": 73,
   "metadata": {},
   "outputs": [
    {
     "data": {
      "text/plain": [
       "keras.engine.sequential.Sequential"
      ]
     },
     "execution_count": 73,
     "metadata": {},
     "output_type": "execute_result"
    }
   ],
   "source": [
    "type(loadcheck)"
   ]
  }
 ],
 "metadata": {
  "kernelspec": {
   "display_name": "Python 3",
   "language": "python",
   "name": "python3"
  },
  "language_info": {
   "codemirror_mode": {
    "name": "ipython",
    "version": 3
   },
   "file_extension": ".py",
   "mimetype": "text/x-python",
   "name": "python",
   "nbconvert_exporter": "python",
   "pygments_lexer": "ipython3",
   "version": "3.8.5"
  }
 },
 "nbformat": 4,
 "nbformat_minor": 4
}
